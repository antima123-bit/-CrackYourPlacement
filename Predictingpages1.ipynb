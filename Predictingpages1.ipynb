{
  "nbformat": 4,
  "nbformat_minor": 0,
  "metadata": {
    "colab": {
      "provenance": [],
      "authorship_tag": "ABX9TyOVoe1A3d1XZZEjIcjoBmbe",
      "include_colab_link": true
    },
    "kernelspec": {
      "name": "python3",
      "display_name": "Python 3"
    },
    "language_info": {
      "name": "python"
    }
  },
  "cells": [
    {
      "cell_type": "markdown",
      "metadata": {
        "id": "view-in-github",
        "colab_type": "text"
      },
      "source": [
        "<a href=\"https://colab.research.google.com/github/antima123-bit/-CrackYourPlacement/blob/main/Predictingpages1.ipynb\" target=\"_parent\"><img src=\"https://colab.research.google.com/assets/colab-badge.svg\" alt=\"Open In Colab\"/></a>"
      ]
    },
    {
      "cell_type": "code",
      "execution_count": 48,
      "metadata": {
        "id": "9R9_2n3SNVCY"
      },
      "outputs": [],
      "source": [
        "import pandas as pd\n",
        "import numpy as np\n",
        "import matplotlib.pyplot as plt\n",
        "import seaborn as sns\n",
        "from prophet import Prophet\n",
        "from sklearn.model_selection import train_test_split\n",
        "from sklearn.metrics import mean_squared_error, r2_score\n",
        "from sklearn.linear_model import LinearRegression"
      ]
    },
    {
      "cell_type": "code",
      "source": [
        "# Load the data\n",
        "customers = pd.read_csv(\"ecommerce_customers.csv\")"
      ],
      "metadata": {
        "id": "ZYJxTQMDNklC"
      },
      "execution_count": 9,
      "outputs": []
    },
    {
      "cell_type": "code",
      "source": [
        "# Load the CSV file using pandas\n",
        "datasets = pd.read_csv('ecommerce_customers.csv')\n",
        "\n",
        "# Explore the first few rows of the dataset\n",
        "print(datasets.head())"
      ],
      "metadata": {
        "colab": {
          "base_uri": "https://localhost:8080/"
        },
        "id": "CnuItPixOruF",
        "outputId": "e865e4eb-61a0-4147-8529-497b9858a7ce"
      },
      "execution_count": 35,
      "outputs": [
        {
          "output_type": "stream",
          "name": "stdout",
          "text": [
            "   User ID Page URL     Timestamp  Page Visits        Age  Gender  \\\n",
            "0        0   page_3  1.631266e+09            3  21.464187    Male   \n",
            "1        1   page_6  1.631250e+09            7  38.038534    Male   \n",
            "2        2   page_4  1.631272e+09            2  27.199542  Female   \n",
            "3        3   page_3  1.631210e+09            6  34.875661    Male   \n",
            "4        4   page_8  1.631235e+09            4  32.212776  Female   \n",
            "\n",
            "      Location  Session Duration Referral Source Device Type  \n",
            "0  Los Angeles          2.050860            Paid      Mobile  \n",
            "1      Chicago          1.243317          Direct      Tablet  \n",
            "2     New York          5.280247         Organic      Mobile  \n",
            "3  Los Angeles          4.224157          Direct     Desktop  \n",
            "4      Chicago         13.508778            Paid      Tablet  \n"
          ]
        }
      ]
    },
    {
      "cell_type": "code",
      "source": [
        "print(page_visits)"
      ],
      "metadata": {
        "colab": {
          "base_uri": "https://localhost:8080/"
        },
        "id": "RD4sVt2zT7P5",
        "outputId": "163323b6-366b-447c-ebba-0581b1595c87"
      },
      "execution_count": 36,
      "outputs": [
        {
          "output_type": "stream",
          "name": "stdout",
          "text": [
            "User ID   0     1     2     3     4     5     6     7     8     9     ...  \\\n",
            "Page URL                                                              ...   \n",
            "page_0     NaN   NaN   NaN   NaN   NaN   NaN   NaN   NaN   NaN   NaN  ...   \n",
            "page_1     NaN   NaN   NaN   NaN   NaN   NaN   3.0   NaN   NaN   NaN  ...   \n",
            "page_2     NaN   NaN   NaN   NaN   NaN   NaN   NaN   NaN   3.0   9.0  ...   \n",
            "page_3     3.0   NaN   NaN   6.0   NaN   NaN   NaN   NaN   NaN   NaN  ...   \n",
            "page_4     NaN   NaN   2.0   NaN   NaN   NaN   NaN   NaN   NaN   NaN  ...   \n",
            "page_5     NaN   NaN   NaN   NaN   NaN   8.0   NaN   NaN   NaN   NaN  ...   \n",
            "page_6     NaN   7.0   NaN   NaN   NaN   NaN   NaN   0.0   NaN   NaN  ...   \n",
            "page_7     NaN   NaN   NaN   NaN   NaN   NaN   NaN   NaN   NaN   NaN  ...   \n",
            "page_8     NaN   NaN   NaN   NaN   4.0   NaN   NaN   NaN   NaN   NaN  ...   \n",
            "page_9     NaN   NaN   NaN   NaN   NaN   NaN   NaN   NaN   NaN   NaN  ...   \n",
            "\n",
            "User ID   4990  4991  4992  4993  4994  4995  4996  4997  4998  4999  \n",
            "Page URL                                                              \n",
            "page_0     NaN   NaN   NaN   NaN   4.0   NaN   3.0   NaN   NaN   NaN  \n",
            "page_1     NaN   NaN   NaN   NaN   NaN   NaN   NaN   NaN   NaN   NaN  \n",
            "page_2     NaN   NaN   NaN   NaN   NaN   NaN   NaN   NaN   4.0   NaN  \n",
            "page_3     NaN   NaN   NaN   NaN   NaN   4.0   NaN   NaN   NaN   8.0  \n",
            "page_4     NaN   NaN   NaN   NaN   NaN   NaN   NaN   NaN   NaN   NaN  \n",
            "page_5     NaN   NaN   NaN   8.0   NaN   NaN   NaN   NaN   NaN   NaN  \n",
            "page_6     NaN   NaN   NaN   NaN   NaN   NaN   NaN   9.0   NaN   NaN  \n",
            "page_7     7.0   NaN   NaN   NaN   NaN   NaN   NaN   NaN   NaN   NaN  \n",
            "page_8     NaN   NaN   5.0   NaN   NaN   NaN   NaN   NaN   NaN   NaN  \n",
            "page_9     NaN   2.0   NaN   NaN   NaN   NaN   NaN   NaN   NaN   NaN  \n",
            "\n",
            "[10 rows x 5000 columns]\n"
          ]
        }
      ]
    },
    {
      "cell_type": "code",
      "source": [
        "# Calculate total visits\n",
        "total_visits = page_visits.sum().sum()"
      ],
      "metadata": {
        "id": "U6SVB1IhOAjx"
      },
      "execution_count": 12,
      "outputs": []
    },
    {
      "cell_type": "code",
      "source": [
        "print(total_visits)"
      ],
      "metadata": {
        "colab": {
          "base_uri": "https://localhost:8080/"
        },
        "id": "Ca3NWDNjUB2H",
        "outputId": "1d8e3a30-0f5e-4db7-dcde-07c18e056351"
      },
      "execution_count": 13,
      "outputs": [
        {
          "output_type": "stream",
          "name": "stdout",
          "text": [
            "24995.0\n"
          ]
        }
      ]
    },
    {
      "cell_type": "code",
      "source": [
        "# Calculate page proportions\n",
        "page_proportions = page_visits / total_visits"
      ],
      "metadata": {
        "id": "Kxzc7i-XOAyo"
      },
      "execution_count": 14,
      "outputs": []
    },
    {
      "cell_type": "code",
      "source": [
        "print(page_proportions)"
      ],
      "metadata": {
        "colab": {
          "base_uri": "https://localhost:8080/"
        },
        "id": "L6wXsRQAUIxf",
        "outputId": "29ad5d57-b92b-497c-edf8-a9a3108b2986"
      },
      "execution_count": 15,
      "outputs": [
        {
          "output_type": "stream",
          "name": "stdout",
          "text": [
            "User ID      0        1        2        3        4        5        6     7     \\\n",
            "Page URL                                                                        \n",
            "page_0        NaN      NaN      NaN      NaN      NaN      NaN      NaN   NaN   \n",
            "page_1        NaN      NaN      NaN      NaN      NaN      NaN  0.00012   NaN   \n",
            "page_2        NaN      NaN      NaN      NaN      NaN      NaN      NaN   NaN   \n",
            "page_3    0.00012      NaN      NaN  0.00024      NaN      NaN      NaN   NaN   \n",
            "page_4        NaN      NaN  0.00008      NaN      NaN      NaN      NaN   NaN   \n",
            "page_5        NaN      NaN      NaN      NaN      NaN  0.00032      NaN   NaN   \n",
            "page_6        NaN  0.00028      NaN      NaN      NaN      NaN      NaN   0.0   \n",
            "page_7        NaN      NaN      NaN      NaN      NaN      NaN      NaN   NaN   \n",
            "page_8        NaN      NaN      NaN      NaN  0.00016      NaN      NaN   NaN   \n",
            "page_9        NaN      NaN      NaN      NaN      NaN      NaN      NaN   NaN   \n",
            "\n",
            "User ID      8        9     ...     4990     4991    4992     4993     4994  \\\n",
            "Page URL                    ...                                               \n",
            "page_0        NaN      NaN  ...      NaN      NaN     NaN      NaN  0.00016   \n",
            "page_1        NaN      NaN  ...      NaN      NaN     NaN      NaN      NaN   \n",
            "page_2    0.00012  0.00036  ...      NaN      NaN     NaN      NaN      NaN   \n",
            "page_3        NaN      NaN  ...      NaN      NaN     NaN      NaN      NaN   \n",
            "page_4        NaN      NaN  ...      NaN      NaN     NaN      NaN      NaN   \n",
            "page_5        NaN      NaN  ...      NaN      NaN     NaN  0.00032      NaN   \n",
            "page_6        NaN      NaN  ...      NaN      NaN     NaN      NaN      NaN   \n",
            "page_7        NaN      NaN  ...  0.00028      NaN     NaN      NaN      NaN   \n",
            "page_8        NaN      NaN  ...      NaN      NaN  0.0002      NaN      NaN   \n",
            "page_9        NaN      NaN  ...      NaN  0.00008     NaN      NaN      NaN   \n",
            "\n",
            "User ID      4995     4996     4997     4998     4999  \n",
            "Page URL                                               \n",
            "page_0        NaN  0.00012      NaN      NaN      NaN  \n",
            "page_1        NaN      NaN      NaN      NaN      NaN  \n",
            "page_2        NaN      NaN      NaN  0.00016      NaN  \n",
            "page_3    0.00016      NaN      NaN      NaN  0.00032  \n",
            "page_4        NaN      NaN      NaN      NaN      NaN  \n",
            "page_5        NaN      NaN      NaN      NaN      NaN  \n",
            "page_6        NaN      NaN  0.00036      NaN      NaN  \n",
            "page_7        NaN      NaN      NaN      NaN      NaN  \n",
            "page_8        NaN      NaN      NaN      NaN      NaN  \n",
            "page_9        NaN      NaN      NaN      NaN      NaN  \n",
            "\n",
            "[10 rows x 5000 columns]\n"
          ]
        }
      ]
    },
    {
      "cell_type": "code",
      "source": [
        "# Calculate mean page proportions\n",
        "mean_page_proportions = page_proportions.mean()"
      ],
      "metadata": {
        "id": "nNof39aqOA0p"
      },
      "execution_count": 16,
      "outputs": []
    },
    {
      "cell_type": "code",
      "source": [
        "print(mean_page_proportions)"
      ],
      "metadata": {
        "colab": {
          "base_uri": "https://localhost:8080/"
        },
        "id": "y5B3_DeHcDNL",
        "outputId": "8a8751c1-fcd7-4b15-f9d6-771864d78065"
      },
      "execution_count": 17,
      "outputs": [
        {
          "output_type": "stream",
          "name": "stdout",
          "text": [
            "User ID\n",
            "0       0.00012\n",
            "1       0.00028\n",
            "2       0.00008\n",
            "3       0.00024\n",
            "4       0.00016\n",
            "         ...   \n",
            "4995    0.00016\n",
            "4996    0.00012\n",
            "4997    0.00036\n",
            "4998    0.00016\n",
            "4999    0.00032\n",
            "Length: 5000, dtype: float64\n"
          ]
        }
      ]
    },
    {
      "cell_type": "code",
      "source": [
        "# Sort pages by mean proportion of visits in descending order\n",
        "sorted_pages = mean_page_proportions.sort_values(ascending=False)"
      ],
      "metadata": {
        "id": "KoBRiSywOA3q"
      },
      "execution_count": 18,
      "outputs": []
    },
    {
      "cell_type": "code",
      "source": [
        "print(sorted_pages)"
      ],
      "metadata": {
        "colab": {
          "base_uri": "https://localhost:8080/"
        },
        "id": "8Nj9YJEFcLRs",
        "outputId": "c175b074-450b-44e7-9df1-38dc2ec47408"
      },
      "execution_count": 19,
      "outputs": [
        {
          "output_type": "stream",
          "name": "stdout",
          "text": [
            "User ID\n",
            "3375    0.00064\n",
            "1081    0.00056\n",
            "1091    0.00052\n",
            "4332    0.00052\n",
            "3284    0.00052\n",
            "         ...   \n",
            "4508    0.00000\n",
            "4524    0.00000\n",
            "2556    0.00000\n",
            "106     0.00000\n",
            "2500    0.00000\n",
            "Length: 5000, dtype: float64\n"
          ]
        }
      ]
    },
    {
      "cell_type": "code",
      "source": [
        "# Select top 3 pages\n",
        "top_3_pages = sorted_pages.head(3)"
      ],
      "metadata": {
        "id": "uHKbB9SGOA6Z"
      },
      "execution_count": 20,
      "outputs": []
    },
    {
      "cell_type": "code",
      "source": [
        "top_3_pages = sorted_pages.head(3)\n",
        "plt.figure(figsize=(6, 6))\n",
        "plt.pie(top_3_pages.values, labels=top_3_pages.index, autopct=\"%1.1f%%\")\n",
        "plt.title(\"Top 3 Pages by Mean Proportion of Visits\")\n",
        "plt.axis(\"equal\")\n",
        "plt.show()"
      ],
      "metadata": {
        "colab": {
          "base_uri": "https://localhost:8080/",
          "height": 521
        },
        "id": "9_NAW70YEQJ_",
        "outputId": "3896cb85-519b-4396-c730-1f2e8547665b"
      },
      "execution_count": 21,
      "outputs": [
        {
          "output_type": "display_data",
          "data": {
            "text/plain": [
              "<Figure size 600x600 with 1 Axes>"
            ],
            "image/png": "[encoded data removed]"
          },
          "metadata": {}
        }
      ]
    },
    {
      "cell_type": "code",
      "source": [
        "print(top_3_pages)"
      ],
      "metadata": {
        "colab": {
          "base_uri": "https://localhost:8080/"
        },
        "id": "cNnLwB5mUPO4",
        "outputId": "d8380fa1-55ba-449c-f671-eaa8c734b06d"
      },
      "execution_count": 22,
      "outputs": [
        {
          "output_type": "stream",
          "name": "stdout",
          "text": [
            "User ID\n",
            "3375    0.00064\n",
            "1081    0.00056\n",
            "1091    0.00052\n",
            "dtype: float64\n"
          ]
        }
      ]
    },
    {
      "cell_type": "code",
      "source": [
        "# Calculate proportion for \"Others\"\n",
        "others_proportion = 1 - top_3_pages.sum()"
      ],
      "metadata": {
        "id": "Gwwe9vnHOA9B"
      },
      "execution_count": 23,
      "outputs": []
    },
    {
      "cell_type": "code",
      "source": [
        "print(others_proportion)"
      ],
      "metadata": {
        "colab": {
          "base_uri": "https://localhost:8080/"
        },
        "id": "Ez8KXzCTUYNa",
        "outputId": "9bacd6c4-8de4-47db-97e2-69a4f054829e"
      },
      "execution_count": 24,
      "outputs": [
        {
          "output_type": "stream",
          "name": "stdout",
          "text": [
            "0.9982796559311863\n"
          ]
        }
      ]
    },
    {
      "cell_type": "code",
      "source": [
        "# Create labels and values for the pie chart\n",
        "labels = top_3_pages.index.tolist() + [\"Others\"]\n",
        "values = top_3_pages.values.tolist() + [others_proportion]"
      ],
      "metadata": {
        "id": "59XiWNXnOA_B"
      },
      "execution_count": 25,
      "outputs": []
    },
    {
      "cell_type": "code",
      "source": [
        "print(labels)\n",
        "print(values)"
      ],
      "metadata": {
        "colab": {
          "base_uri": "https://localhost:8080/"
        },
        "id": "BV24uIbTUdrD",
        "outputId": "7b4e0a89-3b3c-4e2d-c2a3-d8b7a61f3d7b"
      },
      "execution_count": 26,
      "outputs": [
        {
          "output_type": "stream",
          "name": "stdout",
          "text": [
            "[3375, 1081, 1091, 'Others']\n",
            "[0.000640128025605121, 0.0005601120224044809, 0.0005201040208041609, 0.9982796559311863]\n"
          ]
        }
      ]
    },
    {
      "cell_type": "code",
      "source": [
        "print(sorted_pages)"
      ],
      "metadata": {
        "colab": {
          "base_uri": "https://localhost:8080/"
        },
        "id": "O204aUgQUkHq",
        "outputId": "7fd63f04-d98d-4243-9f86-c65830ba12b4"
      },
      "execution_count": 28,
      "outputs": [
        {
          "output_type": "stream",
          "name": "stdout",
          "text": [
            "User ID\n",
            "3375    0.00064\n",
            "1081    0.00056\n",
            "1091    0.00052\n",
            "4332    0.00052\n",
            "3284    0.00052\n",
            "         ...   \n",
            "4508    0.00000\n",
            "4524    0.00000\n",
            "2556    0.00000\n",
            "106     0.00000\n",
            "2500    0.00000\n",
            "Length: 5000, dtype: float64\n"
          ]
        }
      ]
    },
    {
      "cell_type": "code",
      "source": [
        "\n",
        "# Select top 10 pages\n",
        "top_10_pages = sorted_pages.head(10)"
      ],
      "metadata": {
        "id": "o-l82nLPOBC8"
      },
      "execution_count": 29,
      "outputs": []
    },
    {
      "cell_type": "code",
      "source": [
        "print(top_10_pages)"
      ],
      "metadata": {
        "colab": {
          "base_uri": "https://localhost:8080/"
        },
        "id": "uTJVt6lsUpWZ",
        "outputId": "cb0dc123-7e16-40d3-f5df-94053f50b071"
      },
      "execution_count": 30,
      "outputs": [
        {
          "output_type": "stream",
          "name": "stdout",
          "text": [
            "User ID\n",
            "3375    0.00064\n",
            "1081    0.00056\n",
            "1091    0.00052\n",
            "4332    0.00052\n",
            "3284    0.00052\n",
            "372     0.00052\n",
            "2255    0.00052\n",
            "4762    0.00048\n",
            "3063    0.00048\n",
            "2201    0.00048\n",
            "dtype: float64\n"
          ]
        }
      ]
    },
    {
      "cell_type": "code",
      "source": [
        "# Plot the bar chart\n",
        "plt.figure(figsize=(7, 9))\n",
        "plt.bar(top_10_pages.index, top_10_pages.values, color=\"blue\")\n",
        "plt.xlabel(\"Page URL\")\n",
        "plt.ylabel(\"Number of Visits\")\n",
        "plt.title(\"Top 10 Pages by Number of Visits\")\n",
        "plt.xticks(rotation=90)\n",
        "plt.show()"
      ],
      "metadata": {
        "colab": {
          "base_uri": "https://localhost:8080/",
          "height": 816
        },
        "id": "FhA1avgAOBFa",
        "outputId": "a1ad03cf-9456-4f2a-b696-39719e457f01"
      },
      "execution_count": 31,
      "outputs": [
        {
          "output_type": "display_data",
          "data": {
            "text/plain": [
              "<Figure size 700x900 with 1 Axes>"
            ],
            "image/png": "[encoded data removed]"
          },
          "metadata": {}
        }
      ]
    },
    {
      "cell_type": "code",
      "source": [
        "print(customers)"
      ],
      "metadata": {
        "colab": {
          "base_uri": "https://localhost:8080/"
        },
        "id": "tZZ_CLQlUwPI",
        "outputId": "ceb24bb2-3e80-484c-e24b-ab76fc418a3d"
      },
      "execution_count": 32,
      "outputs": [
        {
          "output_type": "stream",
          "name": "stdout",
          "text": [
            "      User ID Page URL     Timestamp  Page Visits        Age  Gender  \\\n",
            "0           0   page_3  1.631266e+09            3  21.464187    Male   \n",
            "1           1   page_6  1.631250e+09            7  38.038534    Male   \n",
            "2           2   page_4  1.631272e+09            2  27.199542  Female   \n",
            "3           3   page_3  1.631210e+09            6  34.875661    Male   \n",
            "4           4   page_8  1.631235e+09            4  32.212776  Female   \n",
            "...       ...      ...           ...          ...        ...     ...   \n",
            "4995     4995   page_3  1.631218e+09            4  48.054303  Female   \n",
            "4996     4996   page_0  1.631250e+09            3  28.413692    Male   \n",
            "4997     4997   page_6  1.631212e+09            9  44.010589  Female   \n",
            "4998     4998   page_2  1.631189e+09            4  33.791105    Male   \n",
            "4999     4999   page_3  1.631201e+09            8  36.059108  Female   \n",
            "\n",
            "         Location  Session Duration Referral Source Device Type  \n",
            "0     Los Angeles          2.050860            Paid      Mobile  \n",
            "1         Chicago          1.243317          Direct      Tablet  \n",
            "2        New York          5.280247         Organic      Mobile  \n",
            "3     Los Angeles          4.224157          Direct     Desktop  \n",
            "4         Chicago         13.508778            Paid      Tablet  \n",
            "...           ...               ...             ...         ...  \n",
            "4995  Los Angeles          9.667878          Direct      Mobile  \n",
            "4996     New York          5.987859            Paid      Tablet  \n",
            "4997  Los Angeles          8.080392            Paid      Tablet  \n",
            "4998      Chicago          8.784083          Direct      Tablet  \n",
            "4999     New York          8.572120          Direct     Desktop  \n",
            "\n",
            "[5000 rows x 10 columns]\n"
          ]
        }
      ]
    },
    {
      "source": [
        "# Convert the 'Gender' column to a numerical representation\n",
        "customers['Gender_Numeric'] = customers['Gender'].map({'Male': 0, 'Female': 1})  # Map 'Male' to 0 and 'Female' to 1\n",
        "\n",
        "# Calculate the correlation using the numerical Gender column\n",
        "corr_matrix = customers[[\"Page Visits\", \"Age\", \"Gender_Numeric\"]].corr()\n",
        "print(corr_matrix)"
      ],
      "cell_type": "code",
      "metadata": {
        "colab": {
          "base_uri": "https://localhost:8080/"
        },
        "id": "WIuNq0ZrP7H_",
        "outputId": "18b54063-b59b-4885-fc54-32b68ebe2181"
      },
      "execution_count": 33,
      "outputs": [
        {
          "output_type": "stream",
          "name": "stdout",
          "text": [
            "                Page Visits       Age  Gender_Numeric\n",
            "Page Visits        1.000000 -0.002387        0.005410\n",
            "Age               -0.002387  1.000000        0.018643\n",
            "Gender_Numeric     0.005410  0.018643        1.000000\n"
          ]
        }
      ]
    },
    {
      "cell_type": "code",
      "source": [
        "# Plot the heatmap\n",
        "plt.figure(figsize=(10, 6))\n",
        "sns.heatmap(corr_matrix, annot=True, cmap=\"coolwarm\", square=True)\n",
        "plt.title(\"Correlation between Page Visits and Demographic Variables\")\n",
        "plt.show()"
      ],
      "metadata": {
        "colab": {
          "base_uri": "https://localhost:8080/",
          "height": 545
        },
        "id": "qphw3g39OBKr",
        "outputId": "fcd55d1a-aff3-4a73-b2ee-cd34eac561a9"
      },
      "execution_count": 34,
      "outputs": [
        {
          "output_type": "display_data",
          "data": {
            "text/plain": [
              "<Figure size 1000x600 with 2 Axes>"
            ],
            "image/png": "[encoded data removed]"
          },
          "metadata": {}
        }
      ]
    },
    {
      "cell_type": "code",
      "source": [
        "\n",
        "# Prepare the data\n",
        "X = customers.drop('Page Visits', axis=1)  # features\n",
        "y = customers['Page Visits']  # target variable\n"
      ],
      "metadata": {
        "id": "gUjJF6j4WXuW"
      },
      "execution_count": 37,
      "outputs": []
    },
    {
      "cell_type": "code",
      "source": [
        "print(X)"
      ],
      "metadata": {
        "colab": {
          "base_uri": "https://localhost:8080/"
        },
        "id": "qH_VIQNRW3OE",
        "outputId": "281daabf-3f7c-44dd-91b3-33ac23f62046"
      },
      "execution_count": 45,
      "outputs": [
        {
          "output_type": "stream",
          "name": "stdout",
          "text": [
            "      User ID     Timestamp        Age  Session Duration  Gender_Numeric  \\\n",
            "0           0  1.631266e+09  21.464187          2.050860               0   \n",
            "1           1  1.631250e+09  38.038534          1.243317               0   \n",
            "2           2  1.631272e+09  27.199542          5.280247               1   \n",
            "3           3  1.631210e+09  34.875661          4.224157               0   \n",
            "4           4  1.631235e+09  32.212776         13.508778               1   \n",
            "...       ...           ...        ...               ...             ...   \n",
            "4995     4995  1.631218e+09  48.054303          9.667878               1   \n",
            "4996     4996  1.631250e+09  28.413692          5.987859               0   \n",
            "4997     4997  1.631212e+09  44.010589          8.080392               1   \n",
            "4998     4998  1.631189e+09  33.791105          8.784083               0   \n",
            "4999     4999  1.631201e+09  36.059108          8.572120               1   \n",
            "\n",
            "      Page URL_page_0  Page URL_page_1  Page URL_page_2  Page URL_page_3  \\\n",
            "0               False            False            False             True   \n",
            "1               False            False            False            False   \n",
            "2               False            False            False            False   \n",
            "3               False            False            False             True   \n",
            "4               False            False            False            False   \n",
            "...               ...              ...              ...              ...   \n",
            "4995            False            False            False             True   \n",
            "4996             True            False            False            False   \n",
            "4997            False            False            False            False   \n",
            "4998            False            False             True            False   \n",
            "4999            False            False            False             True   \n",
            "\n",
            "      Page URL_page_4  ...  Gender_Male  Location_Chicago  \\\n",
            "0               False  ...         True             False   \n",
            "1               False  ...         True              True   \n",
            "2                True  ...        False             False   \n",
            "3               False  ...         True             False   \n",
            "4               False  ...        False              True   \n",
            "...               ...  ...          ...               ...   \n",
            "4995            False  ...        False             False   \n",
            "4996            False  ...         True             False   \n",
            "4997            False  ...        False             False   \n",
            "4998            False  ...         True              True   \n",
            "4999            False  ...        False             False   \n",
            "\n",
            "      Location_Los Angeles  Location_New York  Referral Source_Direct  \\\n",
            "0                     True              False                   False   \n",
            "1                    False              False                    True   \n",
            "2                    False               True                   False   \n",
            "3                     True              False                    True   \n",
            "4                    False              False                   False   \n",
            "...                    ...                ...                     ...   \n",
            "4995                  True              False                    True   \n",
            "4996                 False               True                   False   \n",
            "4997                  True              False                   False   \n",
            "4998                 False              False                    True   \n",
            "4999                 False               True                    True   \n",
            "\n",
            "      Referral Source_Organic  Referral Source_Paid  Device Type_Desktop  \\\n",
            "0                       False                  True                False   \n",
            "1                       False                 False                False   \n",
            "2                        True                 False                False   \n",
            "3                       False                 False                 True   \n",
            "4                       False                  True                False   \n",
            "...                       ...                   ...                  ...   \n",
            "4995                    False                 False                False   \n",
            "4996                    False                  True                False   \n",
            "4997                    False                  True                False   \n",
            "4998                    False                 False                False   \n",
            "4999                    False                 False                 True   \n",
            "\n",
            "      Device Type_Mobile  Device Type_Tablet  \n",
            "0                   True               False  \n",
            "1                  False                True  \n",
            "2                   True               False  \n",
            "3                  False               False  \n",
            "4                  False                True  \n",
            "...                  ...                 ...  \n",
            "4995                True               False  \n",
            "4996               False                True  \n",
            "4997               False                True  \n",
            "4998               False                True  \n",
            "4999               False               False  \n",
            "\n",
            "[5000 rows x 26 columns]\n"
          ]
        }
      ]
    },
    {
      "cell_type": "code",
      "source": [
        "# Convert string columns to categorical variables\n",
        "X = X.apply(lambda col: col.astype('category') if col.dtype == 'object' else col)\n"
      ],
      "metadata": {
        "id": "Ya28YmjKWdoK"
      },
      "execution_count": 38,
      "outputs": []
    },
    {
      "cell_type": "code",
      "source": [
        "# Convert string columns to categorical variables\n",
        "X = X.apply(lambda col: col.astype('category') if col.dtype == 'object' else col)\n"
      ],
      "metadata": {
        "id": "2xP7jKy3Wgep"
      },
      "execution_count": 39,
      "outputs": []
    },
    {
      "cell_type": "code",
      "source": [
        "# Create dummy variables for categorical variables\n",
        "X = pd.get_dummies(X, columns=X.select_dtypes(include='category').columns)\n"
      ],
      "metadata": {
        "id": "J2H_U0OgWjMS"
      },
      "execution_count": 40,
      "outputs": []
    },
    {
      "cell_type": "code",
      "source": [
        "\n",
        "# Split the data into training and testing sets\n",
        "X_train, X_test, y_train, y_test = train_test_split(X, y, test_size=0.2, random_state=42)"
      ],
      "metadata": {
        "id": "R-iDY0tHWkhB"
      },
      "execution_count": 44,
      "outputs": []
    },
    {
      "cell_type": "code",
      "source": [
        "print(X_train)"
      ],
      "metadata": {
        "colab": {
          "base_uri": "https://localhost:8080/"
        },
        "id": "jvVgDIDzXCfB",
        "outputId": "3175bf73-db7c-4d91-f132-ecd2b9d398c0"
      },
      "execution_count": 46,
      "outputs": [
        {
          "output_type": "stream",
          "name": "stdout",
          "text": [
            "      User ID     Timestamp        Age  Session Duration  Gender_Numeric  \\\n",
            "4227     4227  1.631272e+09  53.563027         30.533396               1   \n",
            "4676     4676  1.631220e+09  13.815633         17.353604               0   \n",
            "800       800  1.631233e+09  17.173287          4.595954               0   \n",
            "3671     3671  1.631190e+09  42.185035         27.698787               1   \n",
            "4193     4193  1.631200e+09  27.365735          0.897675               1   \n",
            "...       ...           ...        ...               ...             ...   \n",
            "4426     4426  1.631254e+09  39.926987         33.645501               0   \n",
            "466       466  1.631226e+09  26.093654         15.304791               0   \n",
            "3092     3092  1.631246e+09  41.747849          0.768778               1   \n",
            "3772     3772  1.631248e+09  25.664839          0.751986               0   \n",
            "860       860  1.631255e+09  54.765450          8.775054               1   \n",
            "\n",
            "      Page URL_page_0  Page URL_page_1  Page URL_page_2  Page URL_page_3  \\\n",
            "4227            False            False            False            False   \n",
            "4676            False            False            False             True   \n",
            "800             False            False            False            False   \n",
            "3671            False             True            False            False   \n",
            "4193             True            False            False            False   \n",
            "...               ...              ...              ...              ...   \n",
            "4426            False            False            False            False   \n",
            "466              True            False            False            False   \n",
            "3092            False             True            False            False   \n",
            "3772            False            False            False            False   \n",
            "860             False            False            False            False   \n",
            "\n",
            "      Page URL_page_4  ...  Gender_Male  Location_Chicago  \\\n",
            "4227            False  ...        False              True   \n",
            "4676            False  ...         True             False   \n",
            "800             False  ...         True              True   \n",
            "3671            False  ...        False             False   \n",
            "4193            False  ...        False             False   \n",
            "...               ...  ...          ...               ...   \n",
            "4426            False  ...         True              True   \n",
            "466             False  ...         True             False   \n",
            "3092            False  ...        False              True   \n",
            "3772            False  ...         True             False   \n",
            "860             False  ...        False              True   \n",
            "\n",
            "      Location_Los Angeles  Location_New York  Referral Source_Direct  \\\n",
            "4227                 False              False                   False   \n",
            "4676                  True              False                   False   \n",
            "800                  False              False                    True   \n",
            "3671                  True              False                   False   \n",
            "4193                  True              False                   False   \n",
            "...                    ...                ...                     ...   \n",
            "4426                 False              False                   False   \n",
            "466                  False               True                   False   \n",
            "3092                 False              False                    True   \n",
            "3772                  True              False                   False   \n",
            "860                  False              False                    True   \n",
            "\n",
            "      Referral Source_Organic  Referral Source_Paid  Device Type_Desktop  \\\n",
            "4227                    False                  True                 True   \n",
            "4676                     True                 False                False   \n",
            "800                     False                 False                False   \n",
            "3671                    False                  True                False   \n",
            "4193                    False                  True                False   \n",
            "...                       ...                   ...                  ...   \n",
            "4426                     True                 False                False   \n",
            "466                      True                 False                False   \n",
            "3092                    False                 False                False   \n",
            "3772                     True                 False                False   \n",
            "860                     False                 False                False   \n",
            "\n",
            "      Device Type_Mobile  Device Type_Tablet  \n",
            "4227               False               False  \n",
            "4676               False                True  \n",
            "800                 True               False  \n",
            "3671                True               False  \n",
            "4193               False                True  \n",
            "...                  ...                 ...  \n",
            "4426               False                True  \n",
            "466                False                True  \n",
            "3092               False                True  \n",
            "3772                True               False  \n",
            "860                 True               False  \n",
            "\n",
            "[4000 rows x 26 columns]\n"
          ]
        }
      ]
    },
    {
      "cell_type": "code",
      "source": [
        "# Create a Linear Regression model\n",
        "model = LinearRegression()\n"
      ],
      "metadata": {
        "id": "OmIUMeRGXXiJ"
      },
      "execution_count": 49,
      "outputs": []
    },
    {
      "cell_type": "code",
      "source": [
        "print(X_train)"
      ],
      "metadata": {
        "colab": {
          "base_uri": "https://localhost:8080/"
        },
        "id": "fssI738kXi3V",
        "outputId": "0854ad48-339e-46bd-e4a7-027a8da126eb"
      },
      "execution_count": 50,
      "outputs": [
        {
          "output_type": "stream",
          "name": "stdout",
          "text": [
            "      User ID     Timestamp        Age  Session Duration  Gender_Numeric  \\\n",
            "4227     4227  1.631272e+09  53.563027         30.533396               1   \n",
            "4676     4676  1.631220e+09  13.815633         17.353604               0   \n",
            "800       800  1.631233e+09  17.173287          4.595954               0   \n",
            "3671     3671  1.631190e+09  42.185035         27.698787               1   \n",
            "4193     4193  1.631200e+09  27.365735          0.897675               1   \n",
            "...       ...           ...        ...               ...             ...   \n",
            "4426     4426  1.631254e+09  39.926987         33.645501               0   \n",
            "466       466  1.631226e+09  26.093654         15.304791               0   \n",
            "3092     3092  1.631246e+09  41.747849          0.768778               1   \n",
            "3772     3772  1.631248e+09  25.664839          0.751986               0   \n",
            "860       860  1.631255e+09  54.765450          8.775054               1   \n",
            "\n",
            "      Page URL_page_0  Page URL_page_1  Page URL_page_2  Page URL_page_3  \\\n",
            "4227            False            False            False            False   \n",
            "4676            False            False            False             True   \n",
            "800             False            False            False            False   \n",
            "3671            False             True            False            False   \n",
            "4193             True            False            False            False   \n",
            "...               ...              ...              ...              ...   \n",
            "4426            False            False            False            False   \n",
            "466              True            False            False            False   \n",
            "3092            False             True            False            False   \n",
            "3772            False            False            False            False   \n",
            "860             False            False            False            False   \n",
            "\n",
            "      Page URL_page_4  ...  Gender_Male  Location_Chicago  \\\n",
            "4227            False  ...        False              True   \n",
            "4676            False  ...         True             False   \n",
            "800             False  ...         True              True   \n",
            "3671            False  ...        False             False   \n",
            "4193            False  ...        False             False   \n",
            "...               ...  ...          ...               ...   \n",
            "4426            False  ...         True              True   \n",
            "466             False  ...         True             False   \n",
            "3092            False  ...        False              True   \n",
            "3772            False  ...         True             False   \n",
            "860             False  ...        False              True   \n",
            "\n",
            "      Location_Los Angeles  Location_New York  Referral Source_Direct  \\\n",
            "4227                 False              False                   False   \n",
            "4676                  True              False                   False   \n",
            "800                  False              False                    True   \n",
            "3671                  True              False                   False   \n",
            "4193                  True              False                   False   \n",
            "...                    ...                ...                     ...   \n",
            "4426                 False              False                   False   \n",
            "466                  False               True                   False   \n",
            "3092                 False              False                    True   \n",
            "3772                  True              False                   False   \n",
            "860                  False              False                    True   \n",
            "\n",
            "      Referral Source_Organic  Referral Source_Paid  Device Type_Desktop  \\\n",
            "4227                    False                  True                 True   \n",
            "4676                     True                 False                False   \n",
            "800                     False                 False                False   \n",
            "3671                    False                  True                False   \n",
            "4193                    False                  True                False   \n",
            "...                       ...                   ...                  ...   \n",
            "4426                     True                 False                False   \n",
            "466                      True                 False                False   \n",
            "3092                    False                 False                False   \n",
            "3772                     True                 False                False   \n",
            "860                     False                 False                False   \n",
            "\n",
            "      Device Type_Mobile  Device Type_Tablet  \n",
            "4227               False               False  \n",
            "4676               False                True  \n",
            "800                 True               False  \n",
            "3671                True               False  \n",
            "4193               False                True  \n",
            "...                  ...                 ...  \n",
            "4426               False                True  \n",
            "466                False                True  \n",
            "3092               False                True  \n",
            "3772                True               False  \n",
            "860                 True               False  \n",
            "\n",
            "[4000 rows x 26 columns]\n"
          ]
        }
      ]
    },
    {
      "cell_type": "code",
      "source": [
        "# Train the model using the training data\n",
        "model.fit(X_train, y_train)"
      ],
      "metadata": {
        "colab": {
          "base_uri": "https://localhost:8080/",
          "height": 75
        },
        "id": "6SPEK20qXoyp",
        "outputId": "3ea81702-2a2a-4033-a2c6-7e58c6c08249"
      },
      "execution_count": 51,
      "outputs": [
        {
          "output_type": "execute_result",
          "data": {
            "text/plain": [
              "LinearRegression()"
            ],
            "text/html": [
              "<style>#sk-container-id-1 {color: black;}#sk-container-id-1 pre{padding: 0;}#sk-container-id-1 div.sk-toggleable {background-color: white;}#sk-container-id-1 label.sk-toggleable__label {cursor: pointer;display: block;width: 100%;margin-bottom: 0;padding: 0.3em;box-sizing: border-box;text-align: center;}#sk-container-id-1 label.sk-toggleable__label-arrow:before {content: \"▸\";float: left;margin-right: 0.25em;color: #696969;}#sk-container-id-1 label.sk-toggleable__label-arrow:hover:before {color: black;}#sk-container-id-1 div.sk-estimator:hover label.sk-toggleable__label-arrow:before {color: black;}#sk-container-id-1 div.sk-toggleable__content {max-height: 0;max-width: 0;overflow: hidden;text-align: left;background-color: #f0f8ff;}#sk-container-id-1 div.sk-toggleable__content pre {margin: 0.2em;color: black;border-radius: 0.25em;background-color: #f0f8ff;}#sk-container-id-1 input.sk-toggleable__control:checked~div.sk-toggleable__content {max-height: 200px;max-width: 100%;overflow: auto;}#sk-container-id-1 input.sk-toggleable__control:checked~label.sk-toggleable__label-arrow:before {content: \"▾\";}#sk-container-id-1 div.sk-estimator input.sk-toggleable__control:checked~label.sk-toggleable__label {background-color: #d4ebff;}#sk-container-id-1 div.sk-label input.sk-toggleable__control:checked~label.sk-toggleable__label {background-color: #d4ebff;}#sk-container-id-1 input.sk-hidden--visually {border: 0;clip: rect(1px 1px 1px 1px);clip: rect(1px, 1px, 1px, 1px);height: 1px;margin: -1px;overflow: hidden;padding: 0;position: absolute;width: 1px;}#sk-container-id-1 div.sk-estimator {font-family: monospace;background-color: #f0f8ff;border: 1px dotted black;border-radius: 0.25em;box-sizing: border-box;margin-bottom: 0.5em;}#sk-container-id-1 div.sk-estimator:hover {background-color: #d4ebff;}#sk-container-id-1 div.sk-parallel-item::after {content: \"\";width: 100%;border-bottom: 1px solid gray;flex-grow: 1;}#sk-container-id-1 div.sk-label:hover label.sk-toggleable__label {background-color: #d4ebff;}#sk-container-id-1 div.sk-serial::before {content: \"\";position: absolute;border-left: 1px solid gray;box-sizing: border-box;top: 0;bottom: 0;left: 50%;z-index: 0;}#sk-container-id-1 div.sk-serial {display: flex;flex-direction: column;align-items: center;background-color: white;padding-right: 0.2em;padding-left: 0.2em;position: relative;}#sk-container-id-1 div.sk-item {position: relative;z-index: 1;}#sk-container-id-1 div.sk-parallel {display: flex;align-items: stretch;justify-content: center;background-color: white;position: relative;}#sk-container-id-1 div.sk-item::before, #sk-container-id-1 div.sk-parallel-item::before {content: \"\";position: absolute;border-left: 1px solid gray;box-sizing: border-box;top: 0;bottom: 0;left: 50%;z-index: -1;}#sk-container-id-1 div.sk-parallel-item {display: flex;flex-direction: column;z-index: 1;position: relative;background-color: white;}#sk-container-id-1 div.sk-parallel-item:first-child::after {align-self: flex-end;width: 50%;}#sk-container-id-1 div.sk-parallel-item:last-child::after {align-self: flex-start;width: 50%;}#sk-container-id-1 div.sk-parallel-item:only-child::after {width: 0;}#sk-container-id-1 div.sk-dashed-wrapped {border: 1px dashed gray;margin: 0 0.4em 0.5em 0.4em;box-sizing: border-box;padding-bottom: 0.4em;background-color: white;}#sk-container-id-1 div.sk-label label {font-family: monospace;font-weight: bold;display: inline-block;line-height: 1.2em;}#sk-container-id-1 div.sk-label-container {text-align: center;}#sk-container-id-1 div.sk-container {/* jupyter's `normalize.less` sets `[hidden] { display: none; }` but bootstrap.min.css set `[hidden] { display: none !important; }` so we also need the `!important` here to be able to override the default hidden behavior on the sphinx rendered scikit-learn.org. See: https://github.com/scikit-learn/scikit-learn/issues/21755 */display: inline-block !important;position: relative;}#sk-container-id-1 div.sk-text-repr-fallback {display: none;}</style><div id=\"sk-container-id-1\" class=\"sk-top-container\"><div class=\"sk-text-repr-fallback\"><pre>LinearRegression()</pre><b>In a Jupyter environment, please rerun this cell to show the HTML representation or trust the notebook. <br />On GitHub, the HTML representation is unable to render, please try loading this page with nbviewer.org.</b></div><div class=\"sk-container\" hidden><div class=\"sk-item\"><div class=\"sk-estimator sk-toggleable\"><input class=\"sk-toggleable__control sk-hidden--visually\" id=\"sk-estimator-id-1\" type=\"checkbox\" checked><label for=\"sk-estimator-id-1\" class=\"sk-toggleable__label sk-toggleable__label-arrow\">LinearRegression</label><div class=\"sk-toggleable__content\"><pre>LinearRegression()</pre></div></div></div></div></div>"
            ]
          },
          "metadata": {},
          "execution_count": 51
        }
      ]
    },
    {
      "cell_type": "code",
      "source": [
        "# Make predictions on the testing data\n",
        "y_pred = model.predict(X_test)"
      ],
      "metadata": {
        "id": "RZI2wgkqX7PV"
      },
      "execution_count": 53,
      "outputs": []
    },
    {
      "cell_type": "code",
      "source": [
        "# Evaluate the model using Mean Squared Error (MSE) and R-squared\n",
        "mse = mean_squared_error(y_test, y_pred)\n",
        "r2 = r2_score(y_test, y_pred)"
      ],
      "metadata": {
        "id": "s33hG04fXzSF"
      },
      "execution_count": 54,
      "outputs": []
    },
    {
      "cell_type": "code",
      "source": [
        "# Evaluate the model using Mean Squared Error (MSE) and R-squared\n",
        "mse = mean_squared_error(y_test, y_pred)\n",
        "r2 = r2_score(y_test, y_pred)"
      ],
      "metadata": {
        "id": "Vgh_lOiJX9Lk"
      },
      "execution_count": 55,
      "outputs": []
    },
    {
      "cell_type": "code",
      "source": [
        "print(y_test)"
      ],
      "metadata": {
        "colab": {
          "base_uri": "https://localhost:8080/"
        },
        "id": "-iyfn-QRYAiC",
        "outputId": "672911d8-2a0d-49d9-debc-cdafa24ceebf"
      },
      "execution_count": 56,
      "outputs": [
        {
          "output_type": "stream",
          "name": "stdout",
          "text": [
            "1501    4\n",
            "2586    2\n",
            "2653    4\n",
            "1055    2\n",
            "705     3\n",
            "       ..\n",
            "4711    1\n",
            "2313    8\n",
            "3214    5\n",
            "2732    1\n",
            "1926    4\n",
            "Name: Page Visits, Length: 1000, dtype: int64\n"
          ]
        }
      ]
    },
    {
      "cell_type": "code",
      "source": [
        "print(f'MSE: {mse:.2f}')\n",
        "print(f'R-squared: {r2:.2f}')\n"
      ],
      "metadata": {
        "colab": {
          "base_uri": "https://localhost:8080/"
        },
        "id": "h4TClQC6YEb5",
        "outputId": "468fe8f5-ac53-4c79-8442-370a9b9908c6"
      },
      "execution_count": 57,
      "outputs": [
        {
          "output_type": "stream",
          "name": "stdout",
          "text": [
            "MSE: 5.07\n",
            "R-squared: -0.00\n"
          ]
        }
      ]
    },
    {
      "cell_type": "code",
      "source": [
        "# Print the coefficients (weights) of the Linear Regression model\n",
        "print('Coefficients:')\n",
        "print(model.coef_)"
      ],
      "metadata": {
        "colab": {
          "base_uri": "https://localhost:8080/"
        },
        "id": "Mn_j5KhKYEZW",
        "outputId": "face2782-4925-48f1-85fc-81bec88f84bc"
      },
      "execution_count": 58,
      "outputs": [
        {
          "output_type": "stream",
          "name": "stdout",
          "text": [
            "Coefficients:\n",
            "[-1.88918610e-05 -2.11325984e-06 -8.77247181e-04 -2.07947292e-03\n",
            "  3.23910454e-03 -6.94917165e-02 -1.30090632e-01  1.12154226e-01\n",
            " -6.37855663e-02 -1.71227834e-02  5.52846935e-02 -1.20034356e-02\n",
            "  8.74267105e-02 -8.35889583e-02  1.21217462e-01  3.23910454e-03\n",
            " -3.23910454e-03  8.07098831e-02 -4.57971785e-02 -3.49127046e-02\n",
            " -3.89701202e-02  3.47563725e-02  4.21374765e-03  7.99635150e-02\n",
            " -3.47350866e-02 -4.52284284e-02]\n"
          ]
        }
      ]
    },
    {
      "cell_type": "code",
      "source": [
        "#Print the intercept (bias) of the Linear Regression model\n",
        "print(f'Intercept: {model.intercept_:.2f}')"
      ],
      "metadata": {
        "colab": {
          "base_uri": "https://localhost:8080/"
        },
        "id": "6BK9B0ZBYOPo",
        "outputId": "04913211-0391-4d41-e7da-99edb4d5d5e2"
      },
      "execution_count": 59,
      "outputs": [
        {
          "output_type": "stream",
          "name": "stdout",
          "text": [
            "Intercept: 3452.33\n"
          ]
        }
      ]
    }
  ]
}